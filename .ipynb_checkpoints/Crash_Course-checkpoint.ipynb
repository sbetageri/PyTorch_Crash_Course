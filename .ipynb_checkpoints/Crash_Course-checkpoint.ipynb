{
 "cells": [
  {
   "cell_type": "markdown",
   "metadata": {},
   "source": [
    "# A Course in PyTorch"
   ]
  },
  {
   "cell_type": "markdown",
   "metadata": {},
   "source": [
    "The aim of this notebook is to give a set of quick pointers in PyTorch."
   ]
  },
  {
   "cell_type": "code",
   "execution_count": 1,
   "metadata": {},
   "outputs": [],
   "source": [
    "import torch\n",
    "import numpy as np"
   ]
  },
  {
   "cell_type": "markdown",
   "metadata": {},
   "source": [
    "# Creating a tensor "
   ]
  },
  {
   "cell_type": "code",
   "execution_count": 2,
   "metadata": {},
   "outputs": [],
   "source": [
    "t = torch.tensor([5.0], requires_grad=True)"
   ]
  },
  {
   "cell_type": "markdown",
   "metadata": {},
   "source": [
    "We have added a flag, requires_grad to the tensor so as to flag that this tensor can be differentiated, as shown below."
   ]
  },
  {
   "cell_type": "markdown",
   "metadata": {},
   "source": [
    "Here, we multiply ```t``` by 2. The gradient will be 2, for t"
   ]
  },
  {
   "cell_type": "code",
   "execution_count": 3,
   "metadata": {},
   "outputs": [],
   "source": [
    "a = t * 2"
   ]
  },
  {
   "cell_type": "markdown",
   "metadata": {},
   "source": [
    "The call to ```backward()``` calculates the gradients starting from the tensor that called it. "
   ]
  },
  {
   "cell_type": "code",
   "execution_count": 4,
   "metadata": {},
   "outputs": [],
   "source": [
    "a.backward()"
   ]
  },
  {
   "cell_type": "markdown",
   "metadata": {},
   "source": [
    "To access the gradient, use the data member, ```.grad```"
   ]
  },
  {
   "cell_type": "code",
   "execution_count": 5,
   "metadata": {},
   "outputs": [
    {
     "data": {
      "text/plain": [
       "tensor([2.])"
      ]
     },
     "execution_count": 5,
     "metadata": {},
     "output_type": "execute_result"
    }
   ],
   "source": [
    "t.grad"
   ]
  },
  {
   "cell_type": "markdown",
   "metadata": {},
   "source": [
    "# Torch Tensors and numpy"
   ]
  },
  {
   "cell_type": "markdown",
   "metadata": {},
   "source": [
    "Tensors can be converted to and from numpy arrays by the following methods"
   ]
  },
  {
   "cell_type": "markdown",
   "metadata": {},
   "source": [
    "## From NumPy Array"
   ]
  },
  {
   "cell_type": "code",
   "execution_count": 6,
   "metadata": {},
   "outputs": [],
   "source": [
    "q = np.array([1, 2, 3, 4, 5, 6, 7, 8, 9])"
   ]
  },
  {
   "cell_type": "code",
   "execution_count": 7,
   "metadata": {},
   "outputs": [
    {
     "name": "stdout",
     "output_type": "stream",
     "text": [
      "tensor([1, 2, 3, 4, 5, 6, 7, 8, 9])\n"
     ]
    }
   ],
   "source": [
    "t_q = torch.from_numpy(q)\n",
    "print(t_q)"
   ]
  },
  {
   "cell_type": "markdown",
   "metadata": {},
   "source": [
    "## To NumPy Array"
   ]
  },
  {
   "cell_type": "code",
   "execution_count": 8,
   "metadata": {},
   "outputs": [
    {
     "name": "stdout",
     "output_type": "stream",
     "text": [
      "[1 2 3 4 5 6 7 8 9]\n"
     ]
    }
   ],
   "source": [
    "n_q = t_q.numpy()\n",
    "print(n_q)"
   ]
  },
  {
   "cell_type": "code",
   "execution_count": 9,
   "metadata": {},
   "outputs": [
    {
     "data": {
      "text/plain": [
       "array([1, 2, 3, 4, 5, 6, 7, 8, 9])"
      ]
     },
     "execution_count": 9,
     "metadata": {},
     "output_type": "execute_result"
    }
   ],
   "source": [
    "q"
   ]
  },
  {
   "cell_type": "code",
   "execution_count": 10,
   "metadata": {},
   "outputs": [
    {
     "data": {
      "text/plain": [
       "array([1, 2, 3, 4, 5, 6, 7, 8, 9])"
      ]
     },
     "execution_count": 10,
     "metadata": {},
     "output_type": "execute_result"
    }
   ],
   "source": [
    "n_q"
   ]
  },
  {
   "cell_type": "markdown",
   "metadata": {},
   "source": [
    "# Reading in Data "
   ]
  },
  {
   "cell_type": "markdown",
   "metadata": {},
   "source": [
    "``` torch.utils.data.Dataset ``` is used to create a custom dataset. The class which inherits Dataset should have two items, \n",
    "\n",
    "```.__len__(self)``` method which returns the length of the dataset.\n",
    "\n",
    "``` .__getitem__(self, idx) ``` method, which returns the $idx^{th}$ element in the dataset. \n",
    "\n",
    "This dataset is passed to a ``` torch.utils.data.Dataloader``` as the dataloader splits the dataset into mini-batches, which is then fed to a DNL"
   ]
  },
  {
   "cell_type": "markdown",
   "metadata": {},
   "source": [
    "# Building a model"
   ]
  },
  {
   "cell_type": "markdown",
   "metadata": {},
   "source": [
    "Every custom model from PyTorch is built as a Python Class. It inherits from ``` torch.nn.Module ```\n",
    "The two main methods in a PyTorch model are :\n",
    "\n",
    "1. ```__init__(self) ``` : This method is used to build the model, as in, setup the layers in the DNN\n",
    "\n",
    "2. ```forward(self, x) ``` : This method does a forward pass of the data sample, x (usually a batch) through the network. It returns the output of the network"
   ]
  },
  {
   "cell_type": "markdown",
   "metadata": {},
   "source": [
    "# Training"
   ]
  },
  {
   "cell_type": "markdown",
   "metadata": {},
   "source": [
    "Training a model happens as follows:\n",
    "\n",
    "1. We iterate through the dataloader, passing the minibatch through the DNL\n",
    "2. Pass the output to a loss function, which calculates the error.\n",
    "3. Propogate the gradients from the error that was calculated.\n",
    "4. Update the weights of the layers."
   ]
  },
  {
   "cell_type": "markdown",
   "metadata": {},
   "source": [
    "### Loss function \n",
    "The loss function is passed to a variable named `criterion`, (by convention). The various loss functions are available in `torch.nn`"
   ]
  },
  {
   "cell_type": "markdown",
   "metadata": {},
   "source": [
    "```\n",
    "criterion = torch.nn.L1Loss()\n",
    "optimizer = torch.nn.optim.Adam(model.parameters(), lr=0.01)\n",
    "for data, target in dataloader:\n",
    "     optimizer.clear_grad()\n",
    "     output = model.forward(data)\n",
    "     loss = criterion(output, target)\n",
    "     loss.backward()\n",
    "     optimizer.step()\n",
    "        ```"
   ]
  },
  {
   "cell_type": "markdown",
   "metadata": {},
   "source": [
    "More documentation can be found in\n",
    "\n",
    "1. [Dataloading](https://pytorch.org/tutorials/beginner/data_loading_tutorial.html)\n",
    "2. [Training a Model](https://pytorch.org/tutorials/beginner/blitz/cifar10_tutorial.html#sphx-glr-beginner-blitz-cifar10-tutorial-py)\n",
    "3. [Tensor](https://pytorch.org/tutorials/beginner/blitz/autograd_tutorial.html#sphx-glr-beginner-blitz-autograd-tutorial-py)"
   ]
  },
  {
   "cell_type": "markdown",
   "metadata": {},
   "source": [
    "## GPU\n",
    "PyTorch, unlike Tensorflow does not use the gpu by default. To move a model or a tensor to gpu, the following needs to be done.\n",
    "\n",
    "```\n",
    "device = torch.device('cuda' if torch.cuda.is_available() else 'cpu')\n",
    "my_tensor = my_tensor.to(device)\n",
    "my_model = my_model.to(device)\n",
    "```"
   ]
  }
 ],
 "metadata": {
  "kernelspec": {
   "display_name": "Python 3",
   "language": "python",
   "name": "python3"
  },
  "language_info": {
   "codemirror_mode": {
    "name": "ipython",
    "version": 3
   },
   "file_extension": ".py",
   "mimetype": "text/x-python",
   "name": "python",
   "nbconvert_exporter": "python",
   "pygments_lexer": "ipython3",
   "version": "3.7.3"
  }
 },
 "nbformat": 4,
 "nbformat_minor": 2
}
